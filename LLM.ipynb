{
 "cells": [
  {
   "cell_type": "code",
   "execution_count": 3,
   "metadata": {},
   "outputs": [
    {
     "name": "stderr",
     "output_type": "stream",
     "text": [
      "/Library/Frameworks/Python.framework/Versions/3.12/lib/python3.12/site-packages/tqdm/auto.py:21: TqdmWarning: IProgress not found. Please update jupyter and ipywidgets. See https://ipywidgets.readthedocs.io/en/stable/user_install.html\n",
      "  from .autonotebook import tqdm as notebook_tqdm\n",
      "/Library/Frameworks/Python.framework/Versions/3.12/lib/python3.12/site-packages/paddle/utils/cpp_extension/extension_utils.py:711: UserWarning: No ccache found. Please be aware that recompiling all source files may be required. You can download and install ccache from: https://github.com/ccache/ccache/blob/master/doc/INSTALL.md\n",
      "  warnings.warn(warning_message)\n"
     ]
    }
   ],
   "source": [
    "import os\n",
    "import pickle\n",
    "import numpy as np\n",
    "from sentence_transformers import SentenceTransformer\n",
    "import requests\n",
    "import chromadb\n",
    "from paddleocr import PaddleOCR\n",
    "import time"
   ]
  },
  {
   "cell_type": "code",
   "execution_count": 4,
   "metadata": {},
   "outputs": [
    {
     "name": "stdout",
     "output_type": "stream",
     "text": [
      "Requirement already satisfied: langchain in /Library/Frameworks/Python.framework/Versions/3.12/lib/python3.12/site-packages (0.3.23)\n",
      "Requirement already satisfied: langchain-core<1.0.0,>=0.3.51 in /Library/Frameworks/Python.framework/Versions/3.12/lib/python3.12/site-packages (from langchain) (0.3.51)\n",
      "Requirement already satisfied: langchain-text-splitters<1.0.0,>=0.3.8 in /Library/Frameworks/Python.framework/Versions/3.12/lib/python3.12/site-packages (from langchain) (0.3.8)\n",
      "Requirement already satisfied: langsmith<0.4,>=0.1.17 in /Library/Frameworks/Python.framework/Versions/3.12/lib/python3.12/site-packages (from langchain) (0.3.30)\n",
      "Requirement already satisfied: pydantic<3.0.0,>=2.7.4 in /Library/Frameworks/Python.framework/Versions/3.12/lib/python3.12/site-packages (from langchain) (2.11.3)\n",
      "Requirement already satisfied: SQLAlchemy<3,>=1.4 in /Library/Frameworks/Python.framework/Versions/3.12/lib/python3.12/site-packages (from langchain) (2.0.40)\n",
      "Requirement already satisfied: requests<3,>=2 in /Library/Frameworks/Python.framework/Versions/3.12/lib/python3.12/site-packages (from langchain) (2.32.3)\n",
      "Requirement already satisfied: PyYAML>=5.3 in /Library/Frameworks/Python.framework/Versions/3.12/lib/python3.12/site-packages (from langchain) (6.0.2)\n",
      "Requirement already satisfied: tenacity!=8.4.0,<10.0.0,>=8.1.0 in /Library/Frameworks/Python.framework/Versions/3.12/lib/python3.12/site-packages (from langchain-core<1.0.0,>=0.3.51->langchain) (9.1.2)\n",
      "Requirement already satisfied: jsonpatch<2.0,>=1.33 in /Library/Frameworks/Python.framework/Versions/3.12/lib/python3.12/site-packages (from langchain-core<1.0.0,>=0.3.51->langchain) (1.33)\n",
      "Requirement already satisfied: packaging<25,>=23.2 in /Library/Frameworks/Python.framework/Versions/3.12/lib/python3.12/site-packages (from langchain-core<1.0.0,>=0.3.51->langchain) (24.2)\n",
      "Requirement already satisfied: typing-extensions>=4.7 in /Library/Frameworks/Python.framework/Versions/3.12/lib/python3.12/site-packages (from langchain-core<1.0.0,>=0.3.51->langchain) (4.13.2)\n",
      "Requirement already satisfied: jsonpointer>=1.9 in /Library/Frameworks/Python.framework/Versions/3.12/lib/python3.12/site-packages (from jsonpatch<2.0,>=1.33->langchain-core<1.0.0,>=0.3.51->langchain) (3.0.0)\n",
      "Requirement already satisfied: httpx<1,>=0.23.0 in /Library/Frameworks/Python.framework/Versions/3.12/lib/python3.12/site-packages (from langsmith<0.4,>=0.1.17->langchain) (0.28.1)\n",
      "Requirement already satisfied: orjson<4.0.0,>=3.9.14 in /Library/Frameworks/Python.framework/Versions/3.12/lib/python3.12/site-packages (from langsmith<0.4,>=0.1.17->langchain) (3.10.16)\n",
      "Requirement already satisfied: requests-toolbelt<2.0.0,>=1.0.0 in /Library/Frameworks/Python.framework/Versions/3.12/lib/python3.12/site-packages (from langsmith<0.4,>=0.1.17->langchain) (1.0.0)\n",
      "Requirement already satisfied: zstandard<0.24.0,>=0.23.0 in /Library/Frameworks/Python.framework/Versions/3.12/lib/python3.12/site-packages (from langsmith<0.4,>=0.1.17->langchain) (0.23.0)\n",
      "Requirement already satisfied: anyio in /Library/Frameworks/Python.framework/Versions/3.12/lib/python3.12/site-packages (from httpx<1,>=0.23.0->langsmith<0.4,>=0.1.17->langchain) (4.9.0)\n",
      "Requirement already satisfied: certifi in /Library/Frameworks/Python.framework/Versions/3.12/lib/python3.12/site-packages (from httpx<1,>=0.23.0->langsmith<0.4,>=0.1.17->langchain) (2025.1.31)\n",
      "Requirement already satisfied: httpcore==1.* in /Library/Frameworks/Python.framework/Versions/3.12/lib/python3.12/site-packages (from httpx<1,>=0.23.0->langsmith<0.4,>=0.1.17->langchain) (1.0.8)\n",
      "Requirement already satisfied: idna in /Library/Frameworks/Python.framework/Versions/3.12/lib/python3.12/site-packages (from httpx<1,>=0.23.0->langsmith<0.4,>=0.1.17->langchain) (3.10)\n",
      "Requirement already satisfied: h11<0.15,>=0.13 in /Library/Frameworks/Python.framework/Versions/3.12/lib/python3.12/site-packages (from httpcore==1.*->httpx<1,>=0.23.0->langsmith<0.4,>=0.1.17->langchain) (0.14.0)\n",
      "Requirement already satisfied: annotated-types>=0.6.0 in /Library/Frameworks/Python.framework/Versions/3.12/lib/python3.12/site-packages (from pydantic<3.0.0,>=2.7.4->langchain) (0.7.0)\n",
      "Requirement already satisfied: pydantic-core==2.33.1 in /Library/Frameworks/Python.framework/Versions/3.12/lib/python3.12/site-packages (from pydantic<3.0.0,>=2.7.4->langchain) (2.33.1)\n",
      "Requirement already satisfied: typing-inspection>=0.4.0 in /Library/Frameworks/Python.framework/Versions/3.12/lib/python3.12/site-packages (from pydantic<3.0.0,>=2.7.4->langchain) (0.4.0)\n",
      "Requirement already satisfied: charset-normalizer<4,>=2 in /Library/Frameworks/Python.framework/Versions/3.12/lib/python3.12/site-packages (from requests<3,>=2->langchain) (3.4.1)\n",
      "Requirement already satisfied: urllib3<3,>=1.21.1 in /Library/Frameworks/Python.framework/Versions/3.12/lib/python3.12/site-packages (from requests<3,>=2->langchain) (2.4.0)\n",
      "Requirement already satisfied: sniffio>=1.1 in /Library/Frameworks/Python.framework/Versions/3.12/lib/python3.12/site-packages (from anyio->httpx<1,>=0.23.0->langsmith<0.4,>=0.1.17->langchain) (1.3.1)\n",
      "\n",
      "\u001b[1m[\u001b[0m\u001b[34;49mnotice\u001b[0m\u001b[1;39;49m]\u001b[0m\u001b[39;49m A new release of pip is available: \u001b[0m\u001b[31;49m25.1\u001b[0m\u001b[39;49m -> \u001b[0m\u001b[32;49m25.1.1\u001b[0m\n",
      "\u001b[1m[\u001b[0m\u001b[34;49mnotice\u001b[0m\u001b[1;39;49m]\u001b[0m\u001b[39;49m To update, run: \u001b[0m\u001b[32;49mpip install --upgrade pip\u001b[0m\n"
     ]
    }
   ],
   "source": [
    "!pip install langchain\n"
   ]
  },
  {
   "cell_type": "code",
   "execution_count": 10,
   "metadata": {},
   "outputs": [
    {
     "name": "stdout",
     "output_type": "stream",
     "text": [
      "Generated 129 chunks.\n"
     ]
    }
   ],
   "source": [
    "#creating chunks\n",
    "import os\n",
    "from langchain.text_splitter import RecursiveCharacterTextSplitter\n",
    "\n",
    "def chunk_combined_text(file_path, chunk_size=500, chunk_overlap=50):\n",
    "    with open(file_path, \"r\", encoding=\"utf-8\") as f:\n",
    "        full_text = f.read()\n",
    "\n",
    "    text_splitter = RecursiveCharacterTextSplitter(\n",
    "        chunk_size=chunk_size,\n",
    "        chunk_overlap=chunk_overlap\n",
    "    )\n",
    "\n",
    "    chunks = text_splitter.split_text(full_text)\n",
    "    print(f\"Generated {len(chunks)} chunks.\")\n",
    "    return chunks\n",
    "\n",
    "combined_file = \"extracted_text/combined_summary.txt\"\n",
    "chunks = chunk_combined_text(combined_file)\n",
    "\n",
    "#chunks file\n",
    "os.makedirs(\"chunked_output\", exist_ok=True)\n",
    "for idx, chunk in enumerate(chunks):\n",
    "    with open(f\"chunked_output/chunk_{idx + 1}.txt\", \"w\", encoding=\"utf-8\") as f:\n",
    "        f.write(chunk)\n"
   ]
  },
  {
   "cell_type": "code",
   "execution_count": null,
   "metadata": {},
   "outputs": [],
   "source": []
  },
  {
   "cell_type": "code",
   "execution_count": 11,
   "metadata": {},
   "outputs": [
    {
     "name": "stderr",
     "output_type": "stream",
     "text": [
      "Batches: 100%|██████████| 5/5 [00:17<00:00,  3.56s/it]"
     ]
    },
    {
     "name": "stdout",
     "output_type": "stream",
     "text": [
      " Generated 129 embeddings.\n"
     ]
    },
    {
     "name": "stderr",
     "output_type": "stream",
     "text": [
      "\n"
     ]
    }
   ],
   "source": [
    "#Creating Embeddings\n",
    "from sentence_transformers import SentenceTransformer\n",
    "\n",
    "model = SentenceTransformer('BAAI/bge-base-en-v1.5')\n",
    "\n",
    "def generate_embeddings(chunks):\n",
    "    embeddings = model.encode(chunks, show_progress_bar=True).tolist()\n",
    "    print(f\" Generated {len(embeddings)} embeddings.\")\n",
    "    return embeddings\n",
    "\n",
    "embeddings = generate_embeddings(chunks)\n",
    "\n"
   ]
  },
  {
   "cell_type": "code",
   "execution_count": 12,
   "metadata": {},
   "outputs": [
    {
     "name": "stdout",
     "output_type": "stream",
     "text": [
      "All chunks stored in ChromaDB.\n"
     ]
    }
   ],
   "source": [
    "import chromadb\n",
    "from chromadb.config import Settings\n",
    "\n",
    "#chroma db\n",
    "client = chromadb.Client(Settings(persist_directory=\"./chroma_store\"))  \n",
    "collection = client.get_or_create_collection(\"document_chunks\")\n",
    "\n",
    "def store_in_chromadb(chunks, embeddings):\n",
    "    for idx, (chunk, embedding) in enumerate(zip(chunks, embeddings)):\n",
    "        collection.add(\n",
    "            documents=[chunk],\n",
    "            embeddings=[embedding],\n",
    "            ids=[str(idx)]\n",
    "        )\n",
    "    print(\"All chunks stored in ChromaDB.\")\n",
    "\n",
    "\n",
    "def query_chromadb(query, top_k=3):\n",
    "    query_embedding = model.encode([query]).tolist()[0]\n",
    "    results = collection.query(query_embeddings=[query_embedding], n_results=top_k)\n",
    "    return results[\"documents\"][0]\n",
    "\n",
    "\n",
    "store_in_chromadb(chunks, embeddings)\n",
    "\n"
   ]
  },
  {
   "cell_type": "code",
   "execution_count": 5,
   "metadata": {},
   "outputs": [
    {
     "name": "stdout",
     "output_type": "stream",
     "text": [
      "\n",
      "Top relevant chunk(s):\n",
      " REVENUE PROFITABILITY OTHER\n",
      "Revenue from Operations EBITDA EBITDA Margin Free Cash Flow”\n",
      "19.8 Cr. 0.02 Cr. 0.1% 0.6 Cr.\n",
      "& 8% YoY 0.17 Cr. YoY, down Margin reduced by 0.9% 0.9 Cr. YoY, down\n",
      "from Q1 FY23 from Q1 FY23 from Q1 FY23\n",
      "Total Income PAT PAT Margin Cash & Cash Equivalents\n",
      "20.8 Cr. 0.7 Cr. 3.5 % 61.9 Cr.\n",
      "A 9% YoY 0.1 Cr. YoY, down Margin reduced by 1.1% A 30% YoY\n",
      "from Q1 FY23 from Q1 FY23 & 14.1 Cr. YoY\n",
      "\n",
      "In INR\n",
      "\n",
      "q yTracxn\n",
      "\n",
      "--- page_6.txt ---\n",
      "Q1 FY24: Continued Revenue Growth Momentum\n",
      "---\n",
      "Cash & Cash Equivalents'*\n",
      "\n",
      "FCF (Free Cash Flow)' (0.9)Cr.\n",
      "(in INR Cr.) (in INR Cr.)\n",
      "Historical Annual i 61.9 Cr.\n",
      "a Added 14.1 Cr. YoY at41cr.\n",
      "me & 30% YoY A 30%\n",
      "0.6\n",
      "61.9\n",
      "\n",
      "60.3\n",
      "\n",
      "49\n",
      "45.8 478\n",
      "30.4\n",
      "\n",
      "QIFY23. QIFY24\n",
      "\n",
      "(6.1)\n",
      "FY 21 FY 22 FY 23\n",
      "Revenue increased by 8%, collections increased but FCF FY 21\n",
      "\n",
      "lower due to increased employee, rent and other expense\n",
      "@Tracxn\n",
      "\n",
      "FY 22 FY 23 QIFY23 © QIFY24\n",
      "\n",
      "--- page_21.txt ---\n",
      "Q1 FY24: Other KPls (1/2)\n",
      "---\n",
      "expenses, reimbursable to the company plus Deferred Tax minus Fair value gain/ (loss) on CCPS measured at fair value \n",
      "through profit or loss. Fair value gain/ (loss) on CCPS adjustment has been made only for FY20 & FY21 in this presentation\n",
      "(9)\n",
      "Free Cash Flow is calculated as Net Cash Flow from/ (used in) Operating Activities less Capex (payments for purchase of \n",
      "property, plant and equipment)\n",
      "(10)\n",
      "Organic Search Traffic - Traffic originating from an organic search result\n",
      "(11)\n"
     ]
    }
   ],
   "source": [
    "question = \"What is the company's free cash flow trend?\"\n",
    "top_chunks = query_chromadb(question)\n",
    "print(\"\\nTop relevant chunk(s):\\n\", \"\\n---\\n\".join(top_chunks))"
   ]
  },
  {
   "cell_type": "code",
   "execution_count": 13,
   "metadata": {},
   "outputs": [
    {
     "name": "stdout",
     "output_type": "stream",
     "text": [
      "\n",
      "Answer: According to the provided context, the Revenue from Operations for Q1 FY24 is INR 19.82 Cr.\n"
     ]
    },
    {
     "ename": "NameError",
     "evalue": "name 'top_chunks' is not defined",
     "output_type": "error",
     "traceback": [
      "\u001b[31m---------------------------------------------------------------------------\u001b[39m",
      "\u001b[31mNameError\u001b[39m                                 Traceback (most recent call last)",
      "\u001b[36mCell\u001b[39m\u001b[36m \u001b[39m\u001b[32mIn[13]\u001b[39m\u001b[32m, line 31\u001b[39m\n\u001b[32m     28\u001b[39m answer = retrieve_and_answer(question, top_k=\u001b[32m3\u001b[39m)\n\u001b[32m     29\u001b[39m \u001b[38;5;28mprint\u001b[39m(\u001b[33m\"\u001b[39m\u001b[38;5;130;01m\\n\u001b[39;00m\u001b[33mAnswer:\u001b[39m\u001b[33m\"\u001b[39m, answer)\n\u001b[32m---> \u001b[39m\u001b[32m31\u001b[39m \u001b[38;5;28mprint\u001b[39m(\u001b[43mtop_chunks\u001b[49m)\n",
      "\u001b[31mNameError\u001b[39m: name 'top_chunks' is not defined"
     ]
    }
   ],
   "source": [
    "#Lanchchain Model\n",
    "from langchain.chat_models import ChatOpenAI\n",
    "\n",
    "llm = ChatOpenAI(\n",
    "    base_url=\"https://api.groq.com/openai/v1\",\n",
    "    openai_api_key=\"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\",  \n",
    "    model_name=\"llama3-8b-8192\" \n",
    ")\n",
    "\n",
    "def retrieve_and_answer(question, top_k=3):\n",
    "    top_chunks = query_chromadb(question, top_k=top_k)\n",
    "    context = \"\\n\\n\".join(top_chunks)\n",
    "    prompt = f\"\"\"You are an assistant answering strictly based on the provided context.\n",
    "\n",
    "Context:\n",
    "{context}\n",
    "\n",
    "Question:\n",
    "{question}\n",
    "\n",
    "Answer:\"\"\"\n",
    "    response = llm.predict(prompt)\n",
    "    return response\n",
    "\n",
    "\n",
    "#ask questions\n",
    "question = \"\\n what is revenue from operations \"\n",
    "answer = retrieve_and_answer(question, top_k=3)\n",
    "print(\"\\nAnswer:\", answer)\n",
    "\n"
   ]
  },
  {
   "cell_type": "code",
   "execution_count": null,
   "metadata": {},
   "outputs": [],
   "source": [
    "!pip install openai"
   ]
  },
  {
   "cell_type": "code",
   "execution_count": null,
   "metadata": {},
   "outputs": [],
   "source": []
  }
 ],
 "metadata": {
  "kernelspec": {
   "display_name": "Python 3",
   "language": "python",
   "name": "python3"
  },
  "language_info": {
   "codemirror_mode": {
    "name": "ipython",
    "version": 3
   },
   "file_extension": ".py",
   "mimetype": "text/x-python",
   "name": "python",
   "nbconvert_exporter": "python",
   "pygments_lexer": "ipython3",
   "version": "3.12.8"
  },
  "orig_nbformat": 4
 },
 "nbformat": 4,
 "nbformat_minor": 2
}
