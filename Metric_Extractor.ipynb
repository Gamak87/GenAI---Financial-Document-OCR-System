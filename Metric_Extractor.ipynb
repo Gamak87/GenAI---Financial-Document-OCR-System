{
 "cells": [
  {
   "cell_type": "code",
   "execution_count": 2,
   "metadata": {},
   "outputs": [
    {
     "name": "stdout",
     "output_type": "stream",
     "text": [
      "Collecting psycopg2-binary\n",
      "  Using cached psycopg2-binary-2.9.10.tar.gz (385 kB)\n",
      "  Installing build dependencies ... \u001b[?25ldone\n",
      "\u001b[?25h  Getting requirements to build wheel ... \u001b[?25ldone\n",
      "\u001b[?25h  Preparing metadata (pyproject.toml) ... \u001b[?25ldone\n",
      "\u001b[?25hBuilding wheels for collected packages: psycopg2-binary\n",
      "  Building wheel for psycopg2-binary (pyproject.toml) ... \u001b[?25ldone\n",
      "\u001b[?25h  Created wheel for psycopg2-binary: filename=psycopg2_binary-2.9.10-cp312-cp312-macosx_10_13_universal2.whl size=246285 sha256=e05d1e8a737a1c3af6abc513401a3da8467cad5339245cb173b48dbd8973644b\n",
      "  Stored in directory: /Users/gamaksahani/Library/Caches/pip/wheels/06/bc/a4/bad5bdabd4cf012a00e927db042e0e44d3a649596c548212be\n",
      "Successfully built psycopg2-binary\n",
      "Installing collected packages: psycopg2-binary\n",
      "Successfully installed psycopg2-binary-2.9.10\n",
      "\n",
      "\u001b[1m[\u001b[0m\u001b[34;49mnotice\u001b[0m\u001b[1;39;49m]\u001b[0m\u001b[39;49m A new release of pip is available: \u001b[0m\u001b[31;49m25.1\u001b[0m\u001b[39;49m -> \u001b[0m\u001b[32;49m25.1.1\u001b[0m\n",
      "\u001b[1m[\u001b[0m\u001b[34;49mnotice\u001b[0m\u001b[1;39;49m]\u001b[0m\u001b[39;49m To update, run: \u001b[0m\u001b[32;49mpip install --upgrade pip\u001b[0m\n",
      "Note: you may need to restart the kernel to use updated packages.\n"
     ]
    }
   ],
   "source": [
    "pip install psycopg2-binary\n"
   ]
  },
  {
   "cell_type": "code",
   "execution_count": 6,
   "metadata": {},
   "outputs": [],
   "source": [
    "import re\n",
    "from datetime import datetime"
   ]
  },
  {
   "cell_type": "code",
   "execution_count": 3,
   "metadata": {},
   "outputs": [],
   "source": [
    "import psycopg2\n",
    "\n",
    "def connect_postgres():\n",
    "    conn = psycopg2.connect(\n",
    "        dbname=\"metrics\",\n",
    "        user=\"postgres\",\n",
    "        password=\"sssawsds\",\n",
    "        host=\"localhost\",   \n",
    "        port=\"5432\"        \n",
    "    )\n",
    "    return conn\n"
   ]
  },
  {
   "cell_type": "code",
   "execution_count": 4,
   "metadata": {},
   "outputs": [
    {
     "name": "stdout",
     "output_type": "stream",
     "text": [
      "✅ Connection successful!\n"
     ]
    }
   ],
   "source": [
    "from config import DB_CONFIG\n",
    "\n",
    "try:\n",
    "    conn = connect_postgres()\n",
    "    print(\"Connection successful!\")\n",
    "    conn.close()\n",
    "except Exception as e:\n",
    "    print(\"Connection failed:\", e)\n"
   ]
  },
  {
   "cell_type": "code",
   "execution_count": 10,
   "metadata": {},
   "outputs": [
    {
     "name": "stdout",
     "output_type": "stream",
     "text": [
      "Extracted Metrics: {'Revenue from Operations': '19.8', 'EBITDA': '0.02', 'PAT': '0.7', 'EBITDA Margin': '0.1', 'PAT Margin': '3.5'}\n",
      "Inserted 5 metrics from Q1FY24.pdf.\n"
     ]
    }
   ],
   "source": [
    "def extract_metrics(text):\n",
    "    patterns = {\n",
    "        \"Revenue from Operations\": r\"Revenue from Operations\\s+([\\d\\.]+)\\s*Cr\",\n",
    "        \"EBITDA\": r\"EBITDA\\s+([\\d\\.]+)\\s*Cr\",\n",
    "        \"PAT\": r\"PAT\\s+([\\d\\.]+)\\s*Cr\",\n",
    "        \"EBITDA Margin\": r\"EBITDA Margin\\s+([\\d\\.]+)\\s*%\",\n",
    "        \"PAT Margin\": r\"PAT Margin\\s+([\\d\\.]+)\\s*%\",\n",
    "        \"Free Cash Flow\": r\"Free Cash Flow.*?([\\d\\.\\-]+)\\s*Cr\",\n",
    "        \"Cash & Cash Equivalents\": r\"Cash & Cash Equivalents.*?([\\d\\.]+)\\s*Cr\",\n",
    "    }\n",
    "\n",
    "    results = {}\n",
    "    for metric_name, pattern in patterns.items():\n",
    "        match = re.search(pattern, text, re.IGNORECASE)\n",
    "        if match:\n",
    "            results[metric_name] = match.group(1).strip()\n",
    "\n",
    "    return results\n",
    "\n",
    "# Function to insert metrics into the database\n",
    "def insert_metrics_to_db(metrics, source_pdf):\n",
    "    conn = connect_postgres()\n",
    "    cur = conn.cursor()\n",
    "    for metric_name, metric_value in metrics.items():\n",
    "        cur.execute(\n",
    "            \"\"\"\n",
    "            INSERT INTO metric_table (metric_name, metric_value, source_pdf, extraction_date)\n",
    "            VALUES (%s, %s, %s, %s)\n",
    "            \"\"\",\n",
    "            (metric_name, metric_value, source_pdf, datetime.now())\n",
    "        )\n",
    "    conn.commit()\n",
    "    cur.close()\n",
    "    conn.close()\n",
    "    print(f\"Inserted {len(metrics)} metrics from {source_pdf}.\")\n",
    "\n",
    "# Execution Block\n",
    "if __name__ == \"__main__\":\n",
    "    # Load extracted text file (replace with your actual file path)\n",
    "    with open(\"extracted_text/Q1FY24.txt\", \"r\", encoding=\"utf-8\") as f:\n",
    "        text_content = f.read()\n",
    "    \n",
    "    # Extract metrics\n",
    "    metrics = extract_metrics(text_content)\n",
    "    print(\"Extracted Metrics:\", metrics)\n",
    "\n",
    "    # Insert into PostgreSQL\n",
    "    insert_metrics_to_db(metrics, \"Q1FY24.pdf\")\n"
   ]
  },
  {
   "cell_type": "code",
   "execution_count": null,
   "metadata": {},
   "outputs": [],
   "source": []
  }
 ],
 "metadata": {
  "kernelspec": {
   "display_name": "Python 3",
   "language": "python",
   "name": "python3"
  },
  "language_info": {
   "codemirror_mode": {
    "name": "ipython",
    "version": 3
   },
   "file_extension": ".py",
   "mimetype": "text/x-python",
   "name": "python",
   "nbconvert_exporter": "python",
   "pygments_lexer": "ipython3",
   "version": "3.12.8"
  },
  "orig_nbformat": 4
 },
 "nbformat": 4,
 "nbformat_minor": 2
}
